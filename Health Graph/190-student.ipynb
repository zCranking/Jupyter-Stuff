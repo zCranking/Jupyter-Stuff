{
 "cells": [
  {
   "cell_type": "code",
   "execution_count": 9,
   "metadata": {},
   "outputs": [
    {
     "name": "stdout",
     "output_type": "stream",
     "text": [
      "Name : Arav Gupta\n"
     ]
    }
   ],
   "source": [
    "print(\"Name : Arav Gupta\")"
   ]
  },
  {
   "attachments": {},
   "cell_type": "markdown",
   "metadata": {
    "slideshow": {
     "slide_type": "slide"
    }
   },
   "source": [
    "Importing and reading .csv"
   ]
  },
  {
   "cell_type": "code",
   "execution_count": 10,
   "metadata": {},
   "outputs": [],
   "source": [
    "#import the libraries\n",
    "import numpy as np\n",
    "import pandas as pd\n",
    "from matplotlib import pyplot as plt\n",
    "\n",
    "#Task 1\n",
    "#Read the bmi.csv\n",
    "dataframe1 = pd.read_csv('bmi.csv')"
   ]
  },
  {
   "attachments": {},
   "cell_type": "markdown",
   "metadata": {
    "slideshow": {
     "slide_type": "slide"
    }
   },
   "source": [
    "Sorting data and plotting bar graph"
   ]
  },
  {
   "cell_type": "code",
   "execution_count": 11,
   "metadata": {},
   "outputs": [
    {
     "name": "stdout",
     "output_type": "stream",
     "text": [
      "   Unnamed: 0  Pregnancies  Glucose  BloodPressure  SkinThickness  Insulin  \\\n",
      "0         177            0      129            110             46      130   \n",
      "1         445            0      180             78             63       14   \n",
      "2         673            3      123            100             35      240   \n",
      "3         125            1       88             30             42       99   \n",
      "4         120            0      162             76             56      100   \n",
      "\n",
      "    BMI  DiabetesPedigreeFunction  Age  Outcome  \n",
      "0  67.1                     0.319   26        1  \n",
      "1  59.4                     2.420   25        1  \n",
      "2  57.3                     0.880   22        0  \n",
      "3  55.0                     0.496   26        1  \n",
      "4  53.2                     0.759   25        1  \n",
      "0    26\n",
      "1    25\n",
      "2    22\n",
      "3    26\n",
      "4    25\n",
      "Name: Age, dtype: int64\n",
      "0    67.1\n",
      "1    59.4\n",
      "2    57.3\n",
      "3    55.0\n",
      "4    53.2\n",
      "Name: BMI, dtype: float64\n"
     ]
    },
    {
     "data": {
      "text/plain": [
       "<BarContainer object of 5 artists>"
      ]
     },
     "execution_count": 11,
     "metadata": {},
     "output_type": "execute_result"
    },
    {
     "data": {
      "image/png": "[encoded data removed]",
      "text/plain": [
       "<Figure size 640x480 with 1 Axes>"
      ]
     },
     "metadata": {},
     "output_type": "display_data"
    }
   ],
   "source": [
    "#Task 2\n",
    "#Data is sorted in descending order in accordance with BMI value\n",
    "#Find the top 5 age group where the BMI value is the highest, and plot a bar graph out of it\n",
    "top_5 = dataframe1.head(5)\n",
    "print(top_5)\n",
    "age = top_5[\"Age\"]\n",
    "bmi = top_5[\"BMI\"]\n",
    "\n",
    "plt.xlabel(\"Age\")\n",
    "plt.xticks(rotation=\"vertical\")\n",
    "plt.ylabel(\"BMI\")\n",
    "\n",
    "age = age\n",
    "print(age)\n",
    "\n",
    "bmi = bmi\n",
    "print(bmi)\n",
    "\n",
    "plt.bar(age, bmi, width=0.4, color=(\"red\", \"blue\", \"yellow\", \"green\", \"orange\"))\n",
    "\n",
    "\"\"\"testing\"\"\"\n",
    "\n"
   ]
  },
  {
   "attachments": {},
   "cell_type": "markdown",
   "metadata": {},
   "source": [
    "Insulin Data read and plot\n"
   ]
  },
  {
   "cell_type": "code",
   "execution_count": 12,
   "metadata": {},
   "outputs": [],
   "source": [
    "#Task 3\n",
    "#Read blood_pressure.csv\n",
    "dataframe2 = pd.read_csv(\"blood_pressure.csv\")"
   ]
  },
  {
   "cell_type": "code",
   "execution_count": 13,
   "metadata": {},
   "outputs": [
    {
     "name": "stdout",
     "output_type": "stream",
     "text": [
      "   Unnamed: 0  Pregnancies  Glucose  BloodPressure  SkinThickness  Insulin  \\\n",
      "0         347            3      116              0              0        0   \n",
      "1         494            3       80              0              0        0   \n",
      "2         222            7      119              0              0        0   \n",
      "3          81            2       74              0              0        0   \n",
      "4          78            0      131              0              0        0   \n",
      "\n",
      "    BMI  DiabetesPedigreeFunction  Age  Outcome  \n",
      "0  23.5                     0.187   23        0  \n",
      "1   0.0                     0.174   22        0  \n",
      "2  25.2                     0.209   37        0  \n",
      "3   0.0                     0.102   22        0  \n",
      "4  43.2                     0.270   26        1  \n",
      "0    23\n",
      "1    22\n",
      "2    37\n",
      "3    22\n",
      "4    26\n",
      "Name: Age, dtype: int64\n",
      "0    23.5\n",
      "1     0.0\n",
      "2    25.2\n",
      "3     0.0\n",
      "4    43.2\n",
      "Name: BMI, dtype: float64\n"
     ]
    },
    {
     "data": {
      "text/plain": [
       "<BarContainer object of 5 artists>"
      ]
     },
     "execution_count": 13,
     "metadata": {},
     "output_type": "execute_result"
    },
    {
     "data": {
      "image/png": "[encoded data removed]",
      "text/plain": [
       "<Figure size 640x480 with 1 Axes>"
      ]
     },
     "metadata": {},
     "output_type": "display_data"
    }
   ],
   "source": [
    "#Task 4\n",
    "#Data is sorted in ascending order in accordance with Blood Pressure\n",
    "#Find the top 5 age group where the BloodPressure value is the highest, and plot a bar graph out of it\n",
    "top_5 = dataframe2.head(5)\n",
    "print(top_5)\n",
    "age = top_5[\"Age\"]\n",
    "bmi = top_5[\"BMI\"]\n",
    "\n",
    "plt.xlabel(\"Age\")\n",
    "plt.xticks(rotation=\"vertical\")\n",
    "plt.ylabel(\"BMI\")\n",
    "\n",
    "age = age\n",
    "print(age)\n",
    "\n",
    "bmi = bmi\n",
    "print(bmi)\n",
    "\n",
    "plt.bar(age, bmi, width=0.4, color=(\"red\", \"blue\", \"yellow\", \"green\", \"orange\"))\n"
   ]
  },
  {
   "attachments": {},
   "cell_type": "markdown",
   "metadata": {},
   "source": [
    "Insulin data read and tell"
   ]
  },
  {
   "cell_type": "code",
   "execution_count": 14,
   "metadata": {},
   "outputs": [],
   "source": [
    "#Task 5\n",
    "#Read the insulin.csv\n",
    "dataframe3 = pd.read_csv(\"insulin.csv\")\n"
   ]
  },
  {
   "cell_type": "code",
   "execution_count": 15,
   "metadata": {},
   "outputs": [
    {
     "name": "stdout",
     "output_type": "stream",
     "text": [
      "When insulin is the highest Glucoes is: 0    189\n",
      "Name: Glucose, dtype: int64\n",
      "When BMI is the highest BMI value is: 0    30.1\n",
      "Name: BMI, dtype: float64\n"
     ]
    }
   ],
   "source": [
    "#Task 6\n",
    "#Data is sorted in descending order in accordance with Insulin value\n",
    "#Find out what will be the Glucose and BMI value when the Insulin is highest\n",
    "top1 = dataframe3.head(1)\n",
    "glucoseHigh = top1['Glucose']\n",
    "bmiHigh = top1['BMI']\n",
    "print(\"When insulin is the highest Glucoes is: \" + str(glucoseHigh))\n",
    "print(\"When BMI is the highest BMI value is: \" + str(bmiHigh))\n",
    "\n"
   ]
  },
  {
   "cell_type": "code",
   "execution_count": null,
   "metadata": {},
   "outputs": [],
   "source": []
  },
  {
   "cell_type": "code",
   "execution_count": null,
   "metadata": {},
   "outputs": [],
   "source": []
  }
 ],
 "metadata": {
  "kernelspec": {
   "display_name": "Python 3",
   "language": "python",
   "name": "python3"
  },
  "language_info": {
   "codemirror_mode": {
    "name": "ipython",
    "version": 3
   },
   "file_extension": ".py",
   "mimetype": "text/x-python",
   "name": "python",
   "nbconvert_exporter": "python",
   "pygments_lexer": "ipython3",
   "version": "3.10.2"
  },
  "vscode": {
   "interpreter": {
    "hash": "6fb996f9db7db23e4f714c035d08cc8b5f45c750693f36fb368a56f4d1be34c1"
   }
  }
 },
 "nbformat": 4,
 "nbformat_minor": 4
}
