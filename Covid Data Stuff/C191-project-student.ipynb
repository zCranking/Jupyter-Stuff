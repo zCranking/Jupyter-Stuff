{
 "cells": [
  {
   "cell_type": "raw",
   "metadata": {},
   "source": []
  },
  {
   "cell_type": "code",
   "execution_count": 79,
   "metadata": {},
   "outputs": [
    {
     "name": "stdout",
     "output_type": "stream",
     "text": [
      "Name : Arav Gupta\n",
      "This is a CSV of more than 200 rows which has Covide data.\n",
      "The task is to find out top 5 the countries who are least affected by covid\n",
      "Another task is to find out top 5 the countries who has the maximum number of deaths\n",
      "Another task is to find out top 5 the countries who has the maximum number of active cases\n"
     ]
    }
   ],
   "source": [
    "print(\"Name : Arav Gupta\")\n",
    "print(\"This is a CSV of more than 200 rows which has Covide data.\")\n",
    "print(\"The task is to find out top 5 the countries who are least affected by covid\")\n",
    "print(\"Another task is to find out top 5 the countries who has the maximum number of deaths\")\n",
    "print(\"Another task is to find out top 5 the countries who has the maximum number of active cases\")\n"
   ]
  },
  {
   "cell_type": "code",
   "execution_count": 80,
   "metadata": {},
   "outputs": [
    {
     "data": {
      "text/html": [
       "<div>\n",
       "<style scoped>\n",
       "    .dataframe tbody tr th:only-of-type {\n",
       "        vertical-align: middle;\n",
       "    }\n",
       "\n",
       "    .dataframe tbody tr th {\n",
       "        vertical-align: top;\n",
       "    }\n",
       "\n",
       "    .dataframe thead th {\n",
       "        text-align: right;\n",
       "    }\n",
       "</style>\n",
       "<table border=\"1\" class=\"dataframe\">\n",
       "  <thead>\n",
       "    <tr style=\"text-align: right;\">\n",
       "      <th></th>\n",
       "      <th>country</th>\n",
       "      <th>total_cases</th>\n",
       "      <th>new_cases</th>\n",
       "      <th>total_deaths</th>\n",
       "      <th>new_deaths</th>\n",
       "      <th>total_recovered</th>\n",
       "      <th>active_cases</th>\n",
       "      <th>active_critical</th>\n",
       "      <th>total_tests</th>\n",
       "      <th>population</th>\n",
       "    </tr>\n",
       "  </thead>\n",
       "  <tbody>\n",
       "    <tr>\n",
       "      <th>0</th>\n",
       "      <td>USA</td>\n",
       "      <td>1621196</td>\n",
       "      <td>294</td>\n",
       "      <td>96359</td>\n",
       "      <td>5.0</td>\n",
       "      <td>382244</td>\n",
       "      <td>1142593</td>\n",
       "      <td>17907</td>\n",
       "      <td>13479242</td>\n",
       "      <td>330790544</td>\n",
       "    </tr>\n",
       "    <tr>\n",
       "      <th>1</th>\n",
       "      <td>Russia</td>\n",
       "      <td>326448</td>\n",
       "      <td>8894</td>\n",
       "      <td>3249</td>\n",
       "      <td>150.0</td>\n",
       "      <td>99825</td>\n",
       "      <td>223374</td>\n",
       "      <td>2300</td>\n",
       "      <td>8126626</td>\n",
       "      <td>145927804</td>\n",
       "    </tr>\n",
       "    <tr>\n",
       "      <th>2</th>\n",
       "      <td>Brazil</td>\n",
       "      <td>310921</td>\n",
       "      <td>0</td>\n",
       "      <td>20082</td>\n",
       "      <td>0.0</td>\n",
       "      <td>125960</td>\n",
       "      <td>164879</td>\n",
       "      <td>8318</td>\n",
       "      <td>735224</td>\n",
       "      <td>212393298</td>\n",
       "    </tr>\n",
       "    <tr>\n",
       "      <th>3</th>\n",
       "      <td>Spain</td>\n",
       "      <td>280117</td>\n",
       "      <td>0</td>\n",
       "      <td>27940</td>\n",
       "      <td>0.0</td>\n",
       "      <td>196958</td>\n",
       "      <td>55219</td>\n",
       "      <td>1152</td>\n",
       "      <td>3037840</td>\n",
       "      <td>46752851</td>\n",
       "    </tr>\n",
       "    <tr>\n",
       "      <th>4</th>\n",
       "      <td>UK</td>\n",
       "      <td>250908</td>\n",
       "      <td>0</td>\n",
       "      <td>36042</td>\n",
       "      <td>0.0</td>\n",
       "      <td>1918</td>\n",
       "      <td>212948</td>\n",
       "      <td>1559</td>\n",
       "      <td>3090566</td>\n",
       "      <td>67847158</td>\n",
       "    </tr>\n",
       "    <tr>\n",
       "      <th>...</th>\n",
       "      <td>...</td>\n",
       "      <td>...</td>\n",
       "      <td>...</td>\n",
       "      <td>...</td>\n",
       "      <td>...</td>\n",
       "      <td>...</td>\n",
       "      <td>...</td>\n",
       "      <td>...</td>\n",
       "      <td>...</td>\n",
       "      <td>...</td>\n",
       "    </tr>\n",
       "    <tr>\n",
       "      <th>208</th>\n",
       "      <td>St. Barth</td>\n",
       "      <td>6</td>\n",
       "      <td>0</td>\n",
       "      <td>0</td>\n",
       "      <td>0.0</td>\n",
       "      <td>6</td>\n",
       "      <td>0</td>\n",
       "      <td>0</td>\n",
       "      <td>0</td>\n",
       "      <td>9874</td>\n",
       "    </tr>\n",
       "    <tr>\n",
       "      <th>209</th>\n",
       "      <td>Western Sahara</td>\n",
       "      <td>6</td>\n",
       "      <td>0</td>\n",
       "      <td>0</td>\n",
       "      <td>0.0</td>\n",
       "      <td>6</td>\n",
       "      <td>0</td>\n",
       "      <td>0</td>\n",
       "      <td>0</td>\n",
       "      <td>595583</td>\n",
       "    </tr>\n",
       "    <tr>\n",
       "      <th>210</th>\n",
       "      <td>Anguilla</td>\n",
       "      <td>3</td>\n",
       "      <td>0</td>\n",
       "      <td>0</td>\n",
       "      <td>0.0</td>\n",
       "      <td>3</td>\n",
       "      <td>0</td>\n",
       "      <td>0</td>\n",
       "      <td>0</td>\n",
       "      <td>14988</td>\n",
       "    </tr>\n",
       "    <tr>\n",
       "      <th>211</th>\n",
       "      <td>Lesotho</td>\n",
       "      <td>1</td>\n",
       "      <td>0</td>\n",
       "      <td>0</td>\n",
       "      <td>0.0</td>\n",
       "      <td>0</td>\n",
       "      <td>1</td>\n",
       "      <td>0</td>\n",
       "      <td>0</td>\n",
       "      <td>2140374</td>\n",
       "    </tr>\n",
       "    <tr>\n",
       "      <th>212</th>\n",
       "      <td>Saint Pierre Miquelon</td>\n",
       "      <td>1</td>\n",
       "      <td>0</td>\n",
       "      <td>0</td>\n",
       "      <td>0.0</td>\n",
       "      <td>1</td>\n",
       "      <td>0</td>\n",
       "      <td>0</td>\n",
       "      <td>0</td>\n",
       "      <td>5797</td>\n",
       "    </tr>\n",
       "  </tbody>\n",
       "</table>\n",
       "<p>213 rows × 10 columns</p>\n",
       "</div>"
      ],
      "text/plain": [
       "                   country  total_cases new_cases  total_deaths  new_deaths  \\\n",
       "0                      USA      1621196       294         96359         5.0   \n",
       "1                   Russia       326448      8894          3249       150.0   \n",
       "2                   Brazil       310921         0         20082         0.0   \n",
       "3                    Spain       280117         0         27940         0.0   \n",
       "4                       UK       250908         0         36042         0.0   \n",
       "..                     ...          ...       ...           ...         ...   \n",
       "208              St. Barth            6         0             0         0.0   \n",
       "209         Western Sahara            6         0             0         0.0   \n",
       "210               Anguilla            3         0             0         0.0   \n",
       "211                Lesotho            1         0             0         0.0   \n",
       "212  Saint Pierre Miquelon            1         0             0         0.0   \n",
       "\n",
       "     total_recovered  active_cases  active_critical  total_tests  population  \n",
       "0             382244       1142593            17907     13479242   330790544  \n",
       "1              99825        223374             2300      8126626   145927804  \n",
       "2             125960        164879             8318       735224   212393298  \n",
       "3             196958         55219             1152      3037840    46752851  \n",
       "4               1918        212948             1559      3090566    67847158  \n",
       "..               ...           ...              ...          ...         ...  \n",
       "208                6             0                0            0        9874  \n",
       "209                6             0                0            0      595583  \n",
       "210                3             0                0            0       14988  \n",
       "211                0             1                0            0     2140374  \n",
       "212                1             0                0            0        5797  \n",
       "\n",
       "[213 rows x 10 columns]"
      ]
     },
     "execution_count": 80,
     "metadata": {},
     "output_type": "execute_result"
    }
   ],
   "source": [
    "#Covide Data \n",
    "import  numpy as np\n",
    "import pandas as pd\n",
    "from matplotlib import pyplot as plt\n",
    "\n",
    "\n",
    "dataframe = pd.read_csv('covid19.csv')\n",
    "df = dataframe.dropna()\n",
    "df"
   ]
  },
  {
   "cell_type": "code",
   "execution_count": 81,
   "metadata": {},
   "outputs": [
    {
     "name": "stdout",
     "output_type": "stream",
     "text": [
      "                   country  total_cases new_cases  total_deaths  new_deaths  \\\n",
      "0                      USA      1621196       294         96359         5.0   \n",
      "1                   Russia       326448      8894          3249       150.0   \n",
      "2                   Brazil       310921         0         20082         0.0   \n",
      "3                    Spain       280117         0         27940         0.0   \n",
      "4                       UK       250908         0         36042         0.0   \n",
      "..                     ...          ...       ...           ...         ...   \n",
      "208              St. Barth            6         0             0         0.0   \n",
      "209         Western Sahara            6         0             0         0.0   \n",
      "210               Anguilla            3         0             0         0.0   \n",
      "211                Lesotho            1         0             0         0.0   \n",
      "212  Saint Pierre Miquelon            1         0             0         0.0   \n",
      "\n",
      "     total_recovered  active_cases  active_critical  total_tests  population  \n",
      "0             382244       1142593            17907     13479242   330790544  \n",
      "1              99825        223374             2300      8126626   145927804  \n",
      "2             125960        164879             8318       735224   212393298  \n",
      "3             196958         55219             1152      3037840    46752851  \n",
      "4               1918        212948             1559      3090566    67847158  \n",
      "..               ...           ...              ...          ...         ...  \n",
      "208                6             0                0            0        9874  \n",
      "209                6             0                0            0      595583  \n",
      "210                3             0                0            0       14988  \n",
      "211                0             1                0            0     2140374  \n",
      "212                1             0                0            0        5797  \n",
      "\n",
      "[213 rows x 10 columns]\n"
     ]
    }
   ],
   "source": [
    "#Task 1 \n",
    "#Sort the data as per total number of cases\n",
    "sort_byCasesD = df.sort_values(by='total_cases', ascending=False)\n",
    "print(sort_byCasesD)"
   ]
  },
  {
   "cell_type": "code",
   "execution_count": 82,
   "metadata": {},
   "outputs": [
    {
     "name": "stdout",
     "output_type": "stream",
     "text": [
      "                   country  total_cases new_cases  total_deaths  new_deaths  \\\n",
      "208              St. Barth            6         0             0         0.0   \n",
      "209         Western Sahara            6         0             0         0.0   \n",
      "210               Anguilla            3         0             0         0.0   \n",
      "211                Lesotho            1         0             0         0.0   \n",
      "212  Saint Pierre Miquelon            1         0             0         0.0   \n",
      "\n",
      "     total_recovered  active_cases  active_critical  total_tests  population  \n",
      "208                6             0                0            0        9874  \n",
      "209                6             0                0            0      595583  \n",
      "210                3             0                0            0       14988  \n",
      "211                0             1                0            0     2140374  \n",
      "212                1             0                0            0        5797  \n"
     ]
    }
   ],
   "source": [
    "#Task 2\n",
    "#Get top 5 countries who has the least number of cases and plot a bar graph\n",
    "lowest_5Cases = sort_byCasesD.tail(5)\n",
    "print(lowest_5Cases)\n"
   ]
  },
  {
   "cell_type": "code",
   "execution_count": 83,
   "metadata": {},
   "outputs": [
    {
     "name": "stdout",
     "output_type": "stream",
     "text": [
      "                   country  total_cases new_cases  total_deaths  new_deaths  \\\n",
      "0                      USA      1621196       294         96359         5.0   \n",
      "4                       UK       250908         0         36042         0.0   \n",
      "5                    Italy       228006         0         32486         0.0   \n",
      "6                   France       181826         0         28215         0.0   \n",
      "3                    Spain       280117         0         27940         0.0   \n",
      "..                     ...          ...       ...           ...         ...   \n",
      "153             Mozambique          162         0             0         0.0   \n",
      "190                   Fiji           18         0             0         0.0   \n",
      "191                Namibia           18         0             0         0.0   \n",
      "192          New Caledonia           18         0             0         0.0   \n",
      "212  Saint Pierre Miquelon            1         0             0         0.0   \n",
      "\n",
      "     total_recovered  active_cases  active_critical  total_tests  population  \n",
      "0             382244       1142593            17907     13479242   330790544  \n",
      "4               1918        212948             1559      3090566    67847158  \n",
      "5             134560         60960              640      3243398    60471198  \n",
      "6              63858         89753             1745      1384633    65258007  \n",
      "3             196958         55219             1152      3037840    46752851  \n",
      "..               ...           ...              ...          ...         ...  \n",
      "153               48           114                0         7063    31149023  \n",
      "190               15             3                0         1300      895730  \n",
      "191               14             4                0         2586     2535571  \n",
      "192               18             0                0         5454      285193  \n",
      "212                1             0                0            0        5797  \n",
      "\n",
      "[213 rows x 10 columns]\n"
     ]
    }
   ],
   "source": [
    "#Task 3\n",
    "#Sort the data as per total number of deaths\n",
    "sort_byDeaths = df.sort_values(by='total_deaths', ascending=False)\n",
    "print(sort_byDeaths)"
   ]
  },
  {
   "cell_type": "code",
   "execution_count": 84,
   "metadata": {},
   "outputs": [
    {
     "name": "stdout",
     "output_type": "stream",
     "text": [
      "  country  total_cases new_cases  total_deaths  new_deaths  total_recovered  \\\n",
      "0     USA      1621196       294         96359         5.0           382244   \n",
      "4      UK       250908         0         36042         0.0             1918   \n",
      "5   Italy       228006         0         32486         0.0           134560   \n",
      "6  France       181826         0         28215         0.0            63858   \n",
      "3   Spain       280117         0         27940         0.0           196958   \n",
      "\n",
      "   active_cases  active_critical  total_tests  population  \n",
      "0       1142593            17907     13479242   330790544  \n",
      "4        212948             1559      3090566    67847158  \n",
      "5         60960              640      3243398    60471198  \n",
      "6         89753             1745      1384633    65258007  \n",
      "3         55219             1152      3037840    46752851  \n"
     ]
    },
    {
     "data": {
      "text/plain": [
       "<BarContainer object of 5 artists>"
      ]
     },
     "execution_count": 84,
     "metadata": {},
     "output_type": "execute_result"
    },
    {
     "data": {
      "image/png": "[encoded data removed]",
      "text/plain": [
       "<Figure size 640x480 with 1 Axes>"
      ]
     },
     "metadata": {},
     "output_type": "display_data"
    }
   ],
   "source": [
    "#Task 4\n",
    "#Get top 5 countries who has the maximum number of deaths and plot a bar graph\n",
    "top_5Deaths = sort_byDeaths.head(5)\n",
    "print(top_5Deaths)\n",
    "\n",
    "plt.xlabel('Countries')\n",
    "plt.xticks(rotation='vertical')\n",
    "plt.ylabel('Number of Deaths')\n",
    "\n",
    "label= top_5Deaths['country']\n",
    "value = top_5Deaths['total_deaths']\n",
    "\n",
    "plt.bar(label, value, width=0.4, color=('red', 'blue', 'yellow', 'green', 'orange'))\n",
    "\n"
   ]
  },
  {
   "cell_type": "code",
   "execution_count": 85,
   "metadata": {},
   "outputs": [
    {
     "name": "stdout",
     "output_type": "stream",
     "text": [
      "                   country  total_cases new_cases  total_deaths  new_deaths  \\\n",
      "0                      USA      1621196       294         96359         5.0   \n",
      "1                   Russia       326448      8894          3249       150.0   \n",
      "4                       UK       250908         0         36042         0.0   \n",
      "2                   Brazil       310921         0         20082         0.0   \n",
      "6                   France       181826         0         28215         0.0   \n",
      "..                     ...          ...       ...           ...         ...   \n",
      "196               Dominica           16         0             0         0.0   \n",
      "185            Timor-Leste           24         0             0         0.0   \n",
      "193            Saint Lucia           18         0             0         0.0   \n",
      "192          New Caledonia           18         0             0         0.0   \n",
      "212  Saint Pierre Miquelon            1         0             0         0.0   \n",
      "\n",
      "     total_recovered  active_cases  active_critical  total_tests  population  \n",
      "0             382244       1142593            17907     13479242   330790544  \n",
      "1              99825        223374             2300      8126626   145927804  \n",
      "4               1918        212948             1559      3090566    67847158  \n",
      "2             125960        164879             8318       735224   212393298  \n",
      "6              63858         89753             1745      1384633    65258007  \n",
      "..               ...           ...              ...          ...         ...  \n",
      "196               16             0                0          433       71967  \n",
      "185               24             0                0          738     1315521  \n",
      "193               18             0                0          867      183536  \n",
      "192               18             0                0         5454      285193  \n",
      "212                1             0                0            0        5797  \n",
      "\n",
      "[213 rows x 10 columns]\n"
     ]
    }
   ],
   "source": [
    "#Task 5\n",
    "#Sort the data as per active cases\n",
    "sort_byActive = df.sort_values(by='active_cases', ascending=False)\n",
    "print(sort_byActive)\n"
   ]
  },
  {
   "cell_type": "code",
   "execution_count": 86,
   "metadata": {},
   "outputs": [
    {
     "name": "stdout",
     "output_type": "stream",
     "text": [
      "  country  total_cases new_cases  total_deaths  new_deaths  total_recovered  \\\n",
      "0     USA      1621196       294         96359         5.0           382244   \n",
      "1  Russia       326448      8894          3249       150.0            99825   \n",
      "4      UK       250908         0         36042         0.0             1918   \n",
      "2  Brazil       310921         0         20082         0.0           125960   \n",
      "6  France       181826         0         28215         0.0            63858   \n",
      "\n",
      "   active_cases  active_critical  total_tests  population  \n",
      "0       1142593            17907     13479242   330790544  \n",
      "1        223374             2300      8126626   145927804  \n",
      "4        212948             1559      3090566    67847158  \n",
      "2        164879             8318       735224   212393298  \n",
      "6         89753             1745      1384633    65258007  \n"
     ]
    },
    {
     "data": {
      "text/plain": [
       "<BarContainer object of 5 artists>"
      ]
     },
     "execution_count": 86,
     "metadata": {},
     "output_type": "execute_result"
    },
    {
     "data": {
      "image/png": "[encoded data removed]",
      "text/plain": [
       "<Figure size 640x480 with 1 Axes>"
      ]
     },
     "metadata": {},
     "output_type": "display_data"
    }
   ],
   "source": [
    "#Task 6\n",
    "#Get top 5 countries who has the maximum number of active cases and plot a bar graph\n",
    "top_5Active = sort_byActive.head(5)\n",
    "print(top_5Active)\n",
    "\n",
    "plt.xlabel(\"Countries\")\n",
    "plt.xticks(rotation=\"vertical\")\n",
    "plt.ylabel(\"Active Cases\")\n",
    "\n",
    "label = top_5Active['country']\n",
    "value = top_5Active['active_cases']\n",
    "plt.bar(label, value, width=0.4, color=('red', 'blue', 'green', 'yellow', 'orange'))\n"
   ]
  },
  {
   "cell_type": "code",
   "execution_count": null,
   "metadata": {},
   "outputs": [],
   "source": []
  },
  {
   "cell_type": "code",
   "execution_count": null,
   "metadata": {},
   "outputs": [],
   "source": []
  }
 ],
 "metadata": {
  "kernelspec": {
   "display_name": "Python 3",
   "language": "python",
   "name": "python3"
  },
  "language_info": {
   "codemirror_mode": {
    "name": "ipython",
    "version": 3
   },
   "file_extension": ".py",
   "mimetype": "text/x-python",
   "name": "python",
   "nbconvert_exporter": "python",
   "pygments_lexer": "ipython3",
   "version": "3.10.2"
  },
  "vscode": {
   "interpreter": {
    "hash": "6fb996f9db7db23e4f714c035d08cc8b5f45c750693f36fb368a56f4d1be34c1"
   }
  }
 },
 "nbformat": 4,
 "nbformat_minor": 4
}
